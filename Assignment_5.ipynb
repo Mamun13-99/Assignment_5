{
  "nbformat": 4,
  "nbformat_minor": 0,
  "metadata": {
    "colab": {
      "provenance": []
    },
    "kernelspec": {
      "name": "python3",
      "display_name": "Python 3"
    },
    "language_info": {
      "name": "python"
    }
  },
  "cells": [
    {
      "cell_type": "markdown",
      "source": [
        "1. What does an empty dictionary&#39;s code look like?"
      ],
      "metadata": {
        "id": "xaV9R1otP4Ta"
      }
    },
    {
      "cell_type": "code",
      "execution_count": 1,
      "metadata": {
        "id": "qZDCatWYPu8D"
      },
      "outputs": [],
      "source": [
        "my_dict={}"
      ]
    },
    {
      "cell_type": "code",
      "source": [
        "my_dict=dict()"
      ],
      "metadata": {
        "id": "0RSoHKtlQIvx"
      },
      "execution_count": 2,
      "outputs": []
    },
    {
      "cell_type": "markdown",
      "source": [
        "2. What is the value of a dictionary value with the key &#39;foo&#39; and the value 42?"
      ],
      "metadata": {
        "id": "yORLIo5CQVwq"
      }
    },
    {
      "cell_type": "code",
      "source": [
        "my_dict={'foo': 42}\n",
        "print(my_dict['foo'])"
      ],
      "metadata": {
        "colab": {
          "base_uri": "https://localhost:8080/"
        },
        "id": "qWg42AXdQMra",
        "outputId": "74f19849-63b4-4042-a4de-b532346ae35d"
      },
      "execution_count": 3,
      "outputs": [
        {
          "output_type": "stream",
          "name": "stdout",
          "text": [
            "42\n"
          ]
        }
      ]
    },
    {
      "cell_type": "markdown",
      "source": [
        "3. What is the most significant distinction between a dictionary and a list?"
      ],
      "metadata": {
        "id": "CozaTI7tREs9"
      }
    },
    {
      "cell_type": "code",
      "source": [
        "my_list=['Apple','banana', 'grapes',12]\n",
        "print(my_list[1])"
      ],
      "metadata": {
        "colab": {
          "base_uri": "https://localhost:8080/"
        },
        "id": "OzueBqlcQ24k",
        "outputId": "58f52c24-a5ca-4af1-d660-d0b716ee3927"
      },
      "execution_count": 5,
      "outputs": [
        {
          "output_type": "stream",
          "name": "stdout",
          "text": [
            "banana\n"
          ]
        }
      ]
    },
    {
      "cell_type": "code",
      "source": [
        "my_dict={'Name':'Abdulla','Place':'Bangalore','Age':23}\n",
        "print(my_dict['Age'])"
      ],
      "metadata": {
        "colab": {
          "base_uri": "https://localhost:8080/"
        },
        "id": "ibffJZG8RrKD",
        "outputId": "0b98e755-dd04-4e32-d3ac-9ba0fb5d5432"
      },
      "execution_count": 7,
      "outputs": [
        {
          "output_type": "stream",
          "name": "stdout",
          "text": [
            "23\n"
          ]
        }
      ]
    },
    {
      "cell_type": "markdown",
      "source": [
        "The key difference between a dictionary and a list is that a dictionary is a collection of key-value pairs, while a list is an ordered collection of items that are accessed by index."
      ],
      "metadata": {
        "id": "lz_uxNRPSW1y"
      }
    },
    {
      "cell_type": "markdown",
      "source": [
        "4. What happens if you try to access spam[&#39;foo&#39;] if spam is {&#39;bar&#39;: 100}?"
      ],
      "metadata": {
        "id": "unyIh_KgTwSi"
      }
    },
    {
      "cell_type": "code",
      "source": [
        "spam={'bar':100}\n",
        "print(spam.get('foo'))    #KeyError: 'foo'"
      ],
      "metadata": {
        "colab": {
          "base_uri": "https://localhost:8080/"
        },
        "id": "yYN02XcJSPHL",
        "outputId": "706ebc11-9ac5-4ca5-bb9f-1d7009554016"
      },
      "execution_count": 18,
      "outputs": [
        {
          "output_type": "stream",
          "name": "stdout",
          "text": [
            "None\n"
          ]
        }
      ]
    },
    {
      "cell_type": "markdown",
      "source": [
        "5. If a dictionary is stored in spam, what is the difference between the expressions 'cat' in spam and 'cat' in spam.keys()?"
      ],
      "metadata": {
        "id": "sguJUd_NVr39"
      }
    },
    {
      "cell_type": "code",
      "source": [
        "spam={'cat':1,'Cat_2':2}\n",
        "print('cat' in spam)             #The expression 'cat' in spam tests whether 'cat' is a key in the dictionary spam.\n",
        "print('cat'in spam.keys())       "
      ],
      "metadata": {
        "colab": {
          "base_uri": "https://localhost:8080/"
        },
        "id": "8YUcuvgNT-VX",
        "outputId": "de33645f-ad0a-448b-e9b4-fad893b5a809"
      },
      "execution_count": 21,
      "outputs": [
        {
          "output_type": "stream",
          "name": "stdout",
          "text": [
            "True\n",
            "True\n"
          ]
        }
      ]
    },
    {
      "cell_type": "markdown",
      "source": [
        "#The expression 'cat' in spam.keys() explicitly calls the keys() method of the dictionary spam and tests whether 'cat' is present in the resulting list of keys. It is equivalent to the previous expression."
      ],
      "metadata": {
        "id": "T2wXWHR1WoOJ"
      }
    },
    {
      "cell_type": "markdown",
      "source": [
        "6. If a dictionary is stored in spam, what is the difference between the expressions &#39;cat&#39; in spam and\n",
        "&#39;cat&#39; in spam.values()?"
      ],
      "metadata": {
        "id": "1KuvdUOeW19_"
      }
    },
    {
      "cell_type": "code",
      "source": [
        "print('cat' in spam)\n",
        "print('cat'in spam.values())"
      ],
      "metadata": {
        "colab": {
          "base_uri": "https://localhost:8080/"
        },
        "id": "QZ_CKJeuWG7o",
        "outputId": "fa7c3951-3af0-4b7b-96b0-42391e8db926"
      },
      "execution_count": 23,
      "outputs": [
        {
          "output_type": "stream",
          "name": "stdout",
          "text": [
            "True\n",
            "False\n"
          ]
        }
      ]
    },
    {
      "cell_type": "markdown",
      "source": [
        "The expression 'cat' in spam tests whether 'cat' is a key in the dictionary spam."
      ],
      "metadata": {
        "id": "D6SVwQgKXWXe"
      }
    },
    {
      "cell_type": "markdown",
      "source": [
        "The expression 'cat' in spam.values() tests whether 'cat' is present in any of the values in the dictionary spam. It will return False since 'cat' is not a value in the dictionary. "
      ],
      "metadata": {
        "id": "LUK_JZCcXbsI"
      }
    },
    {
      "cell_type": "markdown",
      "source": [
        "7. What is a shortcut for the following code?\n",
        "if &#39;color&#39; not in spam:\n",
        "spam[&#39;color&#39;] = &#39;black&#39;"
      ],
      "metadata": {
        "id": "wGPsiUpUXkjL"
      }
    },
    {
      "cell_type": "code",
      "source": [
        "spam"
      ],
      "metadata": {
        "colab": {
          "base_uri": "https://localhost:8080/"
        },
        "id": "3sWmwGZvXATL",
        "outputId": "336850bf-bafb-4088-acca-00abcc5140b6"
      },
      "execution_count": 27,
      "outputs": [
        {
          "output_type": "execute_result",
          "data": {
            "text/plain": [
              "{'cat': 1, 'Cat_2': 2}"
            ]
          },
          "metadata": {},
          "execution_count": 27
        }
      ]
    },
    {
      "cell_type": "markdown",
      "source": [],
      "metadata": {
        "id": "zNZVZS9FY_XF"
      }
    },
    {
      "cell_type": "code",
      "source": [
        "spam_2={'Animal':'Cat','Age':12}\n",
        "if 'color' not in spam_2:\n",
        "  spam_2['color']='Black'\n",
        "print(spam_2)"
      ],
      "metadata": {
        "colab": {
          "base_uri": "https://localhost:8080/"
        },
        "id": "MRvjmp_jYHod",
        "outputId": "ee795447-b0ea-4991-99a2-ae2e77663a77"
      },
      "execution_count": 33,
      "outputs": [
        {
          "output_type": "stream",
          "name": "stdout",
          "text": [
            "{'Animal': 'Cat', 'Age': 12, 'color': 'Black'}\n"
          ]
        }
      ]
    },
    {
      "cell_type": "markdown",
      "source": [
        "The shortcut of this code is following:"
      ],
      "metadata": {
        "id": "We3M-xz6bOTX"
      }
    },
    {
      "cell_type": "code",
      "source": [
        "Spam_3={'Animal':'Cat','Age':13}\n",
        "Spam_3.setdefault('Color','red')\n",
        "print(Spam_3)"
      ],
      "metadata": {
        "colab": {
          "base_uri": "https://localhost:8080/"
        },
        "id": "_FHw44MAY61w",
        "outputId": "4e7de20f-9b15-47a7-e0d3-ad4b1b31161a"
      },
      "execution_count": 41,
      "outputs": [
        {
          "output_type": "stream",
          "name": "stdout",
          "text": [
            "{'Animal': 'Cat', 'Age': 13, 'Color': 'red'}\n"
          ]
        }
      ]
    },
    {
      "cell_type": "markdown",
      "source": [
        "8. How do you &quot;pretty print&quot; dictionary values using which module and function?"
      ],
      "metadata": {
        "id": "mJXTU5mbcxkx"
      }
    },
    {
      "cell_type": "code",
      "source": [
        "import pprint\n",
        "spam_4={'Name':'Abdulla', 'Age':'23','Location':'Bangalore' }\n",
        "pprint.pprint(spam_4)                  #pprint and pprint()"
      ],
      "metadata": {
        "colab": {
          "base_uri": "https://localhost:8080/"
        },
        "id": "cFG90iuKbqHp",
        "outputId": "814cc1a7-ef86-4c7e-acc8-d3455b0e012f"
      },
      "execution_count": 43,
      "outputs": [
        {
          "output_type": "stream",
          "name": "stdout",
          "text": [
            "{'Age': '23', 'Location': 'Bangalore', 'Name': 'Abdulla'}\n"
          ]
        }
      ]
    },
    {
      "cell_type": "code",
      "source": [],
      "metadata": {
        "id": "ES-i5b89dUwj"
      },
      "execution_count": null,
      "outputs": []
    }
  ]
}